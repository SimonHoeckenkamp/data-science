{
 "cells": [
  {
   "cell_type": "markdown",
   "metadata": {},
   "source": [
    "# K-means and K-medoids\n",
    "\n",
    "## Problem\n",
    "\n",
    "\n",
    "Assume we have a 2D dataset consisting of (0,−6),(4,4),(0,0),(−5,2). We wish to do k-means and k-medoids clustering with k=2. We initialize the cluster centers with (−5,2),(0,−6).\n",
    "\n",
    "For this small dataset, in choosing between two equally valid exemplars for a cluster in k-medoids, choose them with priority in the order given above (i.e. all other things being equal, you would choose (0,−6) as a center over (−5,2)).\n",
    "\n",
    "For the following scenarios, give the clusters and cluster centers after the algorithm converges.\n",
    "\n",
    "## Aims for solution\n",
    "\n",
    "1. define functions for standard/ simple operations\n",
    "2. define initialization\n",
    "3. define steps of the k-means/ k-medoids algorithm\n",
    "\n"
   ]
  },
  {
   "cell_type": "code",
   "execution_count": 1,
   "metadata": {},
   "outputs": [],
   "source": [
    "import numpy as np"
   ]
  },
  {
   "cell_type": "code",
   "execution_count": 21,
   "metadata": {},
   "outputs": [
    {
     "data": {
      "text/plain": [
       "(4, 2)"
      ]
     },
     "execution_count": 21,
     "metadata": {},
     "output_type": "execute_result"
    }
   ],
   "source": [
    "X = np.array(([0,-6], [4,4], [0,0], [-5,2]))\n",
    "Z = np.array(([-5,2], [0,-6]))\n",
    "X.shape"
   ]
  },
  {
   "cell_type": "markdown",
   "metadata": {},
   "source": [
    "## Define helper functions"
   ]
  },
  {
   "cell_type": "code",
   "execution_count": 3,
   "metadata": {},
   "outputs": [],
   "source": [
    "def dist(x_1, x_2, norm=\"l_1\"):\n",
    "    \"\"\"returns distance between two points\n",
    "    l_1: l_1 norm,\n",
    "    l_2: l_2 norm\"\"\"\n",
    "    if norm == \"l_1\":\n",
    "        return np.linalg.norm(x_1 - x_2, ord = 1)\n",
    "    elif norm == \"l_2\":\n",
    "        return np.linalg.norm(x_1 - x_2)"
   ]
  },
  {
   "cell_type": "code",
   "execution_count": 4,
   "metadata": {},
   "outputs": [],
   "source": [
    "def abs(x):\n",
    "    \"\"\"returns the alsolute value of scalar x\"\"\"\n",
    "    if x < 0:\n",
    "        return -x\n",
    "    else:\n",
    "        return x"
   ]
  },
  {
   "cell_type": "code",
   "execution_count": 5,
   "metadata": {},
   "outputs": [],
   "source": [
    "def list_to_array(x_list):\n",
    "    \"\"\"return numpy array (m x n), given list of m numpy arrays (1 x n)\"\"\"\n",
    "    result_arr = np.empty([len(x_list), len(x_list[0])])\n",
    "    for i in range(len(x_list)):\n",
    "        result_arr[i,:] = x_list[i]\n",
    "    return result_arr"
   ]
  },
  {
   "cell_type": "code",
   "execution_count": 6,
   "metadata": {},
   "outputs": [],
   "source": [
    "def labelled_X(X_l):\n",
    "    \"\"\"return labelled points (usage of temporary dummy labels)\"\"\"\n",
    "    return np.append(X_l, np.zeros([len(X_l), 1]), axis = 1)"
   ]
  },
  {
   "cell_type": "code",
   "execution_count": 72,
   "metadata": {},
   "outputs": [
    {
     "data": {
      "text/plain": [
       "array([1., 1.])"
      ]
     },
     "execution_count": 72,
     "metadata": {},
     "output_type": "execute_result"
    }
   ],
   "source": [
    "def medoid(points, norm=\"l_1\"):\n",
    "    \"\"\"\n",
    "    calulates medoid of labelled/ clustered points\n",
    "    input parameters:\n",
    "    points - numpy.array (nxm), n: no. of points, m: dim of points\n",
    "    norm - \"l_1\" or \"l_2\"\n",
    "    output:\n",
    "    medoid of points \n",
    "    (element of points with least distance to the rest of points) \n",
    "    \"\"\"\n",
    "    \n",
    "    # append one coloumn for the distances to each point\n",
    "    center_dists = np.append(points, np.zeros([len(points), 1]), axis = 1)\n",
    "    \n",
    "    # calculate cumulative distance for each point in cluster\n",
    "    for center in center_dists:\n",
    "        for point in points:\n",
    "            #fill the last col of center_dists with the cumulative distances\n",
    "            center[-1] += dist(point, center[0:points.shape[1]], norm)\n",
    "    \n",
    "    # return point with minimum cumulative distance\n",
    "    return center_dists[np.argmin(center_dists[:,-1])][0:points.shape[1]]\n",
    "\n",
    "# quick check\n",
    "test = np.ones(([1,2]))\n",
    "medoid(test)"
   ]
  },
  {
   "cell_type": "code",
   "execution_count": 59,
   "metadata": {},
   "outputs": [
    {
     "data": {
      "text/plain": [
       "array([2., 3., 4., 5.])"
      ]
     },
     "execution_count": 59,
     "metadata": {},
     "output_type": "execute_result"
    }
   ],
   "source": [
    "def mean(points, norm=\"l_1\"):\n",
    "    \"\"\"\n",
    "    returns mean point from np.array\n",
    "    input:\n",
    "    points - numpy.array (n x m), n: no. of points, m: no. of dim.\n",
    "    norm - \"l_1\" or \"l_2\"\n",
    "    output:\n",
    "    centerpoint - np.array (1 x m)\n",
    "    \"\"\"\n",
    "    \n",
    "    # calculate the mean value of clustered points\n",
    "    # return mean or median center (depending on norm)\n",
    "    if norm == \"l_1\":\n",
    "        return np.median(points, axis = 0)\n",
    "    elif norm == \"l_2\":\n",
    "        return np.mean(points, axis = 0)\n",
    "\n",
    "# quick check\n",
    "test = np.arange(0,8).reshape([2,4])\n",
    "mean(test, \"l_1\") "
   ]
  },
  {
   "cell_type": "markdown",
   "metadata": {},
   "source": [
    "## Define functions of algorithm"
   ]
  },
  {
   "cell_type": "code",
   "execution_count": 53,
   "metadata": {},
   "outputs": [],
   "source": [
    "def assign_points_to_clusters(points, centers, norm=\"l_1\"):\n",
    "    \"\"\"\n",
    "    returns clusters (points assigned to clusters regarding to the distance to their centers)\n",
    "    input parameters: \n",
    "    points - numpy array (n x m); n: no. of points, m: dim of points\n",
    "    centers - numpy array (k x m); k: no. of clusters, m: dim of points\n",
    "    norm - \"l_1\" or \"l_2\" for type of cost function\n",
    "    output:\n",
    "    list of numpy arrays (individual components of list represent clusters)\n",
    "    \"\"\"\n",
    "   \n",
    "    # fill clusters with first (empty) elements\n",
    "    # TODO: change inner list to numpy array\n",
    "    clusters = []\n",
    "    for center in centers:\n",
    "        #clusters.append(np.array((1, np.shape(points)[1])))\n",
    "        clusters.append([])\n",
    "        \n",
    "    # calculate distances from points to individual centers\n",
    "    # TODO: substitute the for-loops with clever numpy operations if possible\n",
    "    distances = np.empty((len(points), len(clusters)))\n",
    "    for i_point in range(len(points)):\n",
    "        for i_center in range(len(centers)):\n",
    "            distances[i_point, i_center] = dist(points[i_point], centers[i_center], norm)\n",
    "\n",
    "    # loop through the distances to assign points to the clusters\n",
    "    # where the point has minimal distance to the corresponding center\n",
    "    for i in range(len(distances)):\n",
    "        # col index of distances corresponds to cluster-index, therfore to index in cluster list\n",
    "        #np.append(clusters[np.argmin(distances[i])], points[i], axis=0)\n",
    "        clusters[np.argmin(distances[i])].append(points[i])\n",
    "    \n",
    "    # before returning the output convert in right format list(np.arrays)\n",
    "    \n",
    "    result_clusters = []\n",
    "    for cluster in clusters:\n",
    "        # initialize clusters with array according to the no. of points in it\n",
    "        result_clusters.append(np.empty([len(cluster), np.shape(cluster)[1]]))\n",
    "    \n",
    "    for i in range(len(clusters)):\n",
    "        for j in range(len(clusters[i])):\n",
    "            result_clusters[i][j] = clusters[i][j]\n",
    "    \n",
    "    \n",
    "    return result_clusters\n",
    "\n",
    "#assign_points_to_clusters(X, Z, \"l_1\")"
   ]
  },
  {
   "cell_type": "code",
   "execution_count": 75,
   "metadata": {},
   "outputs": [],
   "source": [
    "def assign_centers_to_clusters(clusters, c_type=\"kmeans\", norm=\"l_1\"):\n",
    "    \"\"\"\n",
    "    calculates centers to clusters\n",
    "    input values:\n",
    "    clusters - list of numpy arrays (arrays with points corresponding to each cluster)\n",
    "    c_type - paramter for algorithm \"kmeans\" - K-Means, \"kmedoids\" - K-Medoids\n",
    "    norm - parameter for calculating the distance between points (loss function)\n",
    "    output values:\n",
    "    centers - numpy array (k x m); k: no. of clusters, m: dim of points\n",
    "    \"\"\"\n",
    "    \n",
    "    # initialize empty result array for centers (to be calculated)\n",
    "    centers = np.empty([len(clusters), np.shape(clusters[0])[1]])\n",
    "    \n",
    "    # K-Means algorithm\n",
    "    if c_type == \"kmeans\":\n",
    "        for i in range(len(centers)):\n",
    "            centers[i] = mean(clusters[i], norm)\n",
    "    # K-Medoids algorithm\n",
    "    elif c_type == \"kmedoids\":\n",
    "        for i in range(len(centers)):\n",
    "            centers[i] = medoid(clusters[i], norm)\n",
    "    \n",
    "    \n",
    "    return centers\n",
    "\n",
    "#test = assign_points_to_clusters(X, Z, \"l_1\")\n",
    "#assign_centers_to_clusters(test, \"kmeans\", \"l_1\")"
   ]
  },
  {
   "cell_type": "code",
   "execution_count": 80,
   "metadata": {},
   "outputs": [
    {
     "name": "stdout",
     "output_type": "stream",
     "text": [
      "[array([[ 4.,  4.],\n",
      "       [-5.,  2.]]), array([[ 0., -6.],\n",
      "       [ 0.,  0.]])]\n",
      "[[-0.5  3. ]\n",
      " [ 0.  -3. ]]\n"
     ]
    }
   ],
   "source": [
    "# test the k-means algorithm:\n",
    "max_iter = 10\n",
    "points = X\n",
    "centers = Z\n",
    "\n",
    "# TODO: use convergence criteria\n",
    "for i in range(max_iter):\n",
    "    clusters = assign_points_to_clusters(points, centers, \"l_1\")\n",
    "    #centers = assign_centers_to_clusters(clusters, \"kmedoids\", \"l_1\")\n",
    "    centers = assign_centers_to_clusters(clusters, \"kmeans\", \"l_1\")\n",
    "\n",
    "print(clusters)\n",
    "print(centers)"
   ]
  },
  {
   "cell_type": "code",
   "execution_count": null,
   "metadata": {},
   "outputs": [],
   "source": []
  }
 ],
 "metadata": {
  "kernelspec": {
   "display_name": "Python 3",
   "language": "python",
   "name": "python3"
  },
  "language_info": {
   "codemirror_mode": {
    "name": "ipython",
    "version": 3
   },
   "file_extension": ".py",
   "mimetype": "text/x-python",
   "name": "python",
   "nbconvert_exporter": "python",
   "pygments_lexer": "ipython3",
   "version": "3.7.9"
  }
 },
 "nbformat": 4,
 "nbformat_minor": 4
}
