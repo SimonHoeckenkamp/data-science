{
 "cells": [
  {
   "cell_type": "markdown",
   "metadata": {},
   "source": [
    "# K-means and K-medoids\n",
    "\n",
    "## Problem\n",
    "\n",
    "\n",
    "Assume we have a 2D dataset consisting of (0,−6),(4,4),(0,0),(−5,2). We wish to do k-means and k-medoids clustering with k=2. We initialize the cluster centers with (−5,2),(0,−6).\n",
    "\n",
    "For this small dataset, in choosing between two equally valid exemplars for a cluster in k-medoids, choose them with priority in the order given above (i.e. all other things being equal, you would choose (0,−6) as a center over (−5,2)).\n",
    "\n",
    "For the following scenarios, give the clusters and cluster centers after the algorithm converges.\n",
    "\n"
   ]
  },
  {
   "cell_type": "code",
   "execution_count": 1,
   "metadata": {},
   "outputs": [],
   "source": [
    "import numpy as np"
   ]
  },
  {
   "cell_type": "code",
   "execution_count": 2,
   "metadata": {},
   "outputs": [
    {
     "data": {
      "text/plain": [
       "(4, 2)"
      ]
     },
     "execution_count": 2,
     "metadata": {},
     "output_type": "execute_result"
    }
   ],
   "source": [
    "X = np.array(([0,-6], [4,4], [0,0], [-5,2]))\n",
    "centers = np.array(([-5,2], [0,-6]))\n",
    "X.shape"
   ]
  },
  {
   "cell_type": "code",
   "execution_count": 3,
   "metadata": {},
   "outputs": [],
   "source": [
    "def dist(x_1, x_2, norm=\"l_1\"):\n",
    "    \"\"\"returns distance between two points\n",
    "    l_1: l_1 norm,\n",
    "    l_2: l_2 norm\"\"\"\n",
    "    if norm == \"l_1\":\n",
    "        return np.linalg.norm(x_1 - x_2, ord = 1)\n",
    "    elif norm == \"l_2\":\n",
    "        return np.linalg.norm(x_1 - x_2)"
   ]
  },
  {
   "cell_type": "code",
   "execution_count": 4,
   "metadata": {},
   "outputs": [],
   "source": [
    "def abs(x):\n",
    "    \"\"\"returns the alsolute value of scalar x\"\"\"\n",
    "    if x < 0:\n",
    "        return -x\n",
    "    else:\n",
    "        return x"
   ]
  },
  {
   "cell_type": "code",
   "execution_count": 5,
   "metadata": {},
   "outputs": [],
   "source": [
    "def list_to_array(x_list):\n",
    "    \"\"\"return numpy array (m x n), given list of m numpy arrays (1 x n)\"\"\"\n",
    "    result_arr = np.empty([len(x_list), len(x_list[0])])\n",
    "    for i in range(len(x_list)):\n",
    "        result_arr[i,:] = x_list[i]\n",
    "    return result_arr"
   ]
  },
  {
   "cell_type": "code",
   "execution_count": 6,
   "metadata": {},
   "outputs": [],
   "source": [
    "def labelled_X(X_l):\n",
    "    \"\"\"return labelled points (usage of temporary dummy labels)\"\"\"\n",
    "    return np.append(X_l, np.zeros([len(X_l), 1]), axis = 1)"
   ]
  },
  {
   "cell_type": "code",
   "execution_count": 7,
   "metadata": {},
   "outputs": [
    {
     "data": {
      "text/plain": [
       "array([1., 1.])"
      ]
     },
     "execution_count": 7,
     "metadata": {},
     "output_type": "execute_result"
    }
   ],
   "source": [
    "def medoid(X_l, norm=\"l_1\"):\n",
    "    \"\"\"returns central point (not mean!),\n",
    "    points X has to be labelleed in one cluster\"\"\"\n",
    "    \n",
    "    # append one coloumn for the distances to each point\n",
    "    center_dists = np.append(X_l, np.zeros([len(X_l), 1]), axis = 1)\n",
    "    \n",
    "    # calculate cumulative distance for each point in cluster\n",
    "    for center in center_dists:\n",
    "        for point in X_l:\n",
    "            center[-1] += dist(point, center[0:X_l.shape[1]], norm)\n",
    "    \n",
    "    # return point with minimum cumulative distance\n",
    "    return center_dists[np.argmin(center_dists[:,-1])][0:X_l.shape[1]]\n",
    "\n",
    "# quick check\n",
    "test = np.ones(([1,2]))\n",
    "medoid(test)"
   ]
  },
  {
   "cell_type": "code",
   "execution_count": 8,
   "metadata": {},
   "outputs": [
    {
     "data": {
      "text/plain": [
       "array([2., 3., 4., 5.])"
      ]
     },
     "execution_count": 8,
     "metadata": {},
     "output_type": "execute_result"
    }
   ],
   "source": [
    "def mean(X_l, norm=\"l_1\"):\n",
    "    \"\"\"returns mean point,\n",
    "    points X has to be labelled within one cluster\n",
    "    l_1: l_1 norm and k-median clustering,\n",
    "    l_2: l_2 norm and mean clustering\"\"\"\n",
    "    \n",
    "    # calculate the mean value of clustered points\n",
    "    # return mean or median center (depending on norm)\n",
    "    if norm == \"l_1\":\n",
    "        return np.median(X_l, axis = 0)[0:X_l.shape[1]]\n",
    "    elif norm == \"l_2\":\n",
    "        return np.mean(X_l, axis = 0)[0:X_l.shape[1]]\n",
    "     \n",
    "\n",
    "# quick check\n",
    "test = np.arange(0,8).reshape([2,4])\n",
    "mean(test, \"l_2\") "
   ]
  },
  {
   "cell_type": "code",
   "execution_count": 9,
   "metadata": {},
   "outputs": [],
   "source": [
    "def k_step(X_l, centers, cluster_type, norm=\"l_1\"):\n",
    "    \"\"\"returns tuple of numpy array with centers and \n",
    "    list of numpy array of labelled points\"\"\"\n",
    "    \n",
    "    dim = X_l.shape[1] - 1\n",
    "    \n",
    "    #calculate distances of points to given centers\n",
    "    distances = np.empty([len(X_l), len(centers)])\n",
    "    i = 0\n",
    "    #TODO: remove for-loops\n",
    "    for point in X_l:\n",
    "        j = 0\n",
    "        for center in centers:\n",
    "            # do not use the label in point for calculating the norm \n",
    "            distances[i, j] = dist(point[0:2], center, norm)\n",
    "            j += 1\n",
    "        i += 1\n",
    "    \n",
    "    # label points corresponding to the distances\n",
    "    # label is the index of distances \n",
    "    # (no. of columns rises with no. of clusters)\n",
    "    labels = np.argmin(distances, axis = 1)\n",
    "    X_l[:, 2] = labels    \n",
    "    \n",
    "    # TODO: converting between lists and numpy arrays way to expensive\n",
    "    # rearrange points in clusters here in list clusters\n",
    "    clusters = []\n",
    "    for label in range(len(centers)):\n",
    "        points = []\n",
    "        for point in X_l:          \n",
    "            # use epsilon due to float value for label\n",
    "            if abs(point[-1] - label) < 1E-15:\n",
    "                points.append(point[0:dim])\n",
    "        # index of clusters corresponds to label\n",
    "        clusters.append(list_to_array(points))\n",
    "        \n",
    "    new_centers = centers\n",
    "    \n",
    "    for i in range(len(new_centers)):\n",
    "        if cluster_type == \"medoid\":\n",
    "            new_centers[i] = medoid(clusters[i], norm)\n",
    "        elif cluster_type == \"mean\":\n",
    "            new_centers[i] = mean(clusters[i], norm)\n",
    "    return (X_l, new_centers)"
   ]
  },
  {
   "cell_type": "code",
   "execution_count": 10,
   "metadata": {},
   "outputs": [
    {
     "data": {
      "text/plain": [
       "(array([[ 0., -6.,  1.],\n",
       "        [ 4.,  4.,  0.],\n",
       "        [ 0.,  0.,  0.],\n",
       "        [-5.,  2.,  0.]]),\n",
       " array([[ 0,  2],\n",
       "        [ 0, -6]]))"
      ]
     },
     "execution_count": 10,
     "metadata": {},
     "output_type": "execute_result"
    }
   ],
   "source": [
    "# run the k-medoids algorithm\n",
    "X_new = labelled_X(X)\n",
    "\n",
    "index = 0\n",
    "# hard-coded amount of while-loops, \n",
    "# TODO: convergence criteria and max stepsize \n",
    "while (index < 100):\n",
    "    (X_new, centers) = k_step(X_new, centers, cluster_type=\"mean\", norm=\"l_2\")\n",
    "    index += 1\n",
    "X_new, centers"
   ]
  },
  {
   "cell_type": "code",
   "execution_count": null,
   "metadata": {},
   "outputs": [],
   "source": []
  },
  {
   "cell_type": "code",
   "execution_count": null,
   "metadata": {},
   "outputs": [],
   "source": []
  }
 ],
 "metadata": {
  "kernelspec": {
   "display_name": "Python 3",
   "language": "python",
   "name": "python3"
  },
  "language_info": {
   "codemirror_mode": {
    "name": "ipython",
    "version": 3
   },
   "file_extension": ".py",
   "mimetype": "text/x-python",
   "name": "python",
   "nbconvert_exporter": "python",
   "pygments_lexer": "ipython3",
   "version": "3.7.9"
  }
 },
 "nbformat": 4,
 "nbformat_minor": 4
}
